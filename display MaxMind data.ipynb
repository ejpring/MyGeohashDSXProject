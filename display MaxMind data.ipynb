{
    "nbformat_minor": 2, 
    "cells": [
        {
            "execution_count": 4, 
            "cell_type": "code", 
            "metadata": {}, 
            "outputs": [
                {
                    "output_type": "stream", 
                    "name": "stdout", 
                    "text": "Collecting python-geohash\n  Downloading python-geohash-0.8.5.tar.gz\nRequirement already satisfied: geohash2 in /gpfs/global_fs01/sym_shared/YPProdSpark/user/sa73-1acf9232f65bd2-cf1c60ef4a00/.local/lib/python3.5/site-packages\nRequirement already satisfied: folium in /gpfs/global_fs01/sym_shared/YPProdSpark/user/sa73-1acf9232f65bd2-cf1c60ef4a00/.local/lib/python3.5/site-packages\nRequirement already satisfied: docutils>=0.3 in /gpfs/global_fs01/sym_shared/YPProdSpark/user/sa73-1acf9232f65bd2-cf1c60ef4a00/.local/lib/python3.5/site-packages (from geohash2)\nRequirement already satisfied: branca in /gpfs/global_fs01/sym_shared/YPProdSpark/user/sa73-1acf9232f65bd2-cf1c60ef4a00/.local/lib/python3.5/site-packages (from folium)\nRequirement already satisfied: jinja2 in /usr/local/src/conda3_runtime.v28/home/envs/DSX-Python35-Spark/lib/python3.5/site-packages (from folium)\nRequirement already satisfied: requests in /gpfs/global_fs01/sym_shared/YPProdSpark/user/sa73-1acf9232f65bd2-cf1c60ef4a00/.local/lib/python3.5/site-packages (from folium)\nRequirement already satisfied: six in /gpfs/global_fs01/sym_shared/YPProdSpark/user/sa73-1acf9232f65bd2-cf1c60ef4a00/.local/lib/python3.5/site-packages (from folium)\nRequirement already satisfied: MarkupSafe>=0.23 in /usr/local/src/conda3_runtime.v28/home/envs/DSX-Python35-Spark/lib/python3.5/site-packages (from jinja2->folium)\nRequirement already satisfied: urllib3<1.23,>=1.21.1 in /gpfs/global_fs01/sym_shared/YPProdSpark/user/sa73-1acf9232f65bd2-cf1c60ef4a00/.local/lib/python3.5/site-packages (from requests->folium)\nRequirement already satisfied: chardet<3.1.0,>=3.0.2 in /gpfs/global_fs01/sym_shared/YPProdSpark/user/sa73-1acf9232f65bd2-cf1c60ef4a00/.local/lib/python3.5/site-packages (from requests->folium)\nRequirement already satisfied: certifi>=2017.4.17 in /gpfs/global_fs01/sym_shared/YPProdSpark/user/sa73-1acf9232f65bd2-cf1c60ef4a00/.local/lib/python3.5/site-packages (from requests->folium)\nRequirement already satisfied: idna<2.7,>=2.5 in /gpfs/global_fs01/sym_shared/YPProdSpark/user/sa73-1acf9232f65bd2-cf1c60ef4a00/.local/lib/python3.5/site-packages (from requests->folium)\nBuilding wheels for collected packages: python-geohash\n  Running setup.py bdist_wheel for python-geohash ... \u001b[?25ldone\n\u001b[?25h  Stored in directory: /gpfs/fs01/user/sa73-1acf9232f65bd2-cf1c60ef4a00/.cache/pip/wheels/38/0e/1e/d00bb723727485c0fb7951cbec8f55b91f5f5b11913d5559a0\nSuccessfully built python-geohash\nInstalling collected packages: python-geohash\nSuccessfully installed python-geohash-0.8.5\n"
                }
            ], 
            "source": "# install Python packages used in this notebook\n!pip install pandas numpy python-geohash geohash2 folium"
        }, 
        {
            "execution_count": 5, 
            "cell_type": "code", 
            "metadata": {}, 
            "outputs": [], 
            "source": "import os\nimport geohash\nimport geohash2\nimport numpy as np\nimport pandas as pd\nimport folium\nfrom folium.features import DivIcon\n\npd.set_option('max_rows', 15)\n\n# find the newest directory, in case there are old directories left over from previous runs\nmaxmindDirectory = sorted( [ f for f in os.listdir() if os.path.isdir(f) and f.startswith('GeoLite2-City-CSV') ] )[-1]\n\n# load the MaxMind network and location data \nmaxmindNetworks = pd.read_csv(maxmindDirectory + '/GeoLite2-City-Blocks-IPv4.csv', header=0)\nmaxmindLocations = pd.read_csv(maxmindDirectory + '/GeoLite2-City-Locations-en.csv', header=0)\n\n# discard networks with no location\nmaxmindNetworks = maxmindNetworks.dropna(subset=['geoname_id'])\n\n# cast location codes to integers\nmaxmindNetworks['geoname_id'] = maxmindNetworks['geoname_id'].astype('int32') ########### ?????????????\nmaxmindLocations['geoname_id'] = maxmindLocations['geoname_id'].astype('int32')\n\ndef cleanName(name):\n    if name=='nan': return '---'\n    return name.replace(',', '')\n\n# remove commas and NaN's from networks\ncolumns = ['postal_code']\nfor column in columns:\n    maxmindNetworks[column] = maxmindNetworks[column].apply(lambda name: cleanName(str(name)))\n    \n# remove commas and NaN's from locations\ncolumns = ['subdivision_1_iso_code','subdivision_1_name','subdivision_2_iso_code','subdivision_2_name','city_name','metro_code']\nfor column in columns:\n    maxmindLocations[column] = maxmindLocations[column].apply(lambda name: cleanName(str(name)))"
        }, 
        {
            "execution_count": 6, 
            "cell_type": "code", 
            "metadata": {}, 
            "outputs": [
                {
                    "execution_count": 6, 
                    "metadata": {}, 
                    "data": {
                        "text/html": "<div>\n<style scoped>\n    .dataframe tbody tr th:only-of-type {\n        vertical-align: middle;\n    }\n\n    .dataframe tbody tr th {\n        vertical-align: top;\n    }\n\n    .dataframe thead th {\n        text-align: right;\n    }\n</style>\n<table border=\"1\" class=\"dataframe\">\n  <thead>\n    <tr style=\"text-align: right;\">\n      <th></th>\n      <th>network</th>\n      <th>geoname_id</th>\n      <th>registered_country_geoname_id</th>\n      <th>represented_country_geoname_id</th>\n      <th>is_anonymous_proxy</th>\n      <th>is_satellite_provider</th>\n      <th>postal_code</th>\n      <th>latitude</th>\n      <th>longitude</th>\n      <th>accuracy_radius</th>\n    </tr>\n  </thead>\n  <tbody>\n    <tr>\n      <th>0</th>\n      <td>1.0.0.0/24</td>\n      <td>2151718</td>\n      <td>2077456.0</td>\n      <td>NaN</td>\n      <td>0</td>\n      <td>0</td>\n      <td>3095</td>\n      <td>-37.7000</td>\n      <td>145.1833</td>\n      <td>1000.0</td>\n    </tr>\n    <tr>\n      <th>1</th>\n      <td>1.0.1.0/24</td>\n      <td>1810821</td>\n      <td>1814991.0</td>\n      <td>NaN</td>\n      <td>0</td>\n      <td>0</td>\n      <td>---</td>\n      <td>26.0614</td>\n      <td>119.3061</td>\n      <td>50.0</td>\n    </tr>\n    <tr>\n      <th>2</th>\n      <td>1.0.2.0/23</td>\n      <td>1810821</td>\n      <td>1814991.0</td>\n      <td>NaN</td>\n      <td>0</td>\n      <td>0</td>\n      <td>---</td>\n      <td>26.0614</td>\n      <td>119.3061</td>\n      <td>50.0</td>\n    </tr>\n    <tr>\n      <th>3</th>\n      <td>1.0.4.0/22</td>\n      <td>2077456</td>\n      <td>2077456.0</td>\n      <td>NaN</td>\n      <td>0</td>\n      <td>0</td>\n      <td>---</td>\n      <td>-33.4940</td>\n      <td>143.2104</td>\n      <td>1000.0</td>\n    </tr>\n    <tr>\n      <th>4</th>\n      <td>1.0.8.0/21</td>\n      <td>1809858</td>\n      <td>1814991.0</td>\n      <td>NaN</td>\n      <td>0</td>\n      <td>0</td>\n      <td>---</td>\n      <td>23.1167</td>\n      <td>113.2500</td>\n      <td>50.0</td>\n    </tr>\n    <tr>\n      <th>5</th>\n      <td>1.0.16.0/20</td>\n      <td>1850147</td>\n      <td>1861060.0</td>\n      <td>NaN</td>\n      <td>0</td>\n      <td>0</td>\n      <td>190-0031</td>\n      <td>35.6850</td>\n      <td>139.7514</td>\n      <td>500.0</td>\n    </tr>\n    <tr>\n      <th>6</th>\n      <td>1.0.32.0/19</td>\n      <td>1809858</td>\n      <td>1814991.0</td>\n      <td>NaN</td>\n      <td>0</td>\n      <td>0</td>\n      <td>---</td>\n      <td>23.1167</td>\n      <td>113.2500</td>\n      <td>50.0</td>\n    </tr>\n    <tr>\n      <th>7</th>\n      <td>1.0.64.0/20</td>\n      <td>1854383</td>\n      <td>1861060.0</td>\n      <td>NaN</td>\n      <td>0</td>\n      <td>0</td>\n      <td>700-0827</td>\n      <td>34.6617</td>\n      <td>133.9350</td>\n      <td>10.0</td>\n    </tr>\n    <tr>\n      <th>8</th>\n      <td>1.0.80.0/22</td>\n      <td>1854383</td>\n      <td>1861060.0</td>\n      <td>NaN</td>\n      <td>0</td>\n      <td>0</td>\n      <td>700-0827</td>\n      <td>34.6617</td>\n      <td>133.9350</td>\n      <td>10.0</td>\n    </tr>\n    <tr>\n      <th>9</th>\n      <td>1.0.84.0/23</td>\n      <td>1854383</td>\n      <td>1861060.0</td>\n      <td>NaN</td>\n      <td>0</td>\n      <td>0</td>\n      <td>700-0827</td>\n      <td>34.6617</td>\n      <td>133.9350</td>\n      <td>10.0</td>\n    </tr>\n    <tr>\n      <th>10</th>\n      <td>1.0.86.0/24</td>\n      <td>1854383</td>\n      <td>1861060.0</td>\n      <td>NaN</td>\n      <td>0</td>\n      <td>0</td>\n      <td>700-0827</td>\n      <td>34.6617</td>\n      <td>133.9350</td>\n      <td>10.0</td>\n    </tr>\n    <tr>\n      <th>11</th>\n      <td>1.0.87.0/24</td>\n      <td>1858311</td>\n      <td>1861060.0</td>\n      <td>NaN</td>\n      <td>0</td>\n      <td>0</td>\n      <td>710-0046</td>\n      <td>34.5833</td>\n      <td>133.7667</td>\n      <td>10.0</td>\n    </tr>\n    <tr>\n      <th>12</th>\n      <td>1.0.88.0/22</td>\n      <td>1858311</td>\n      <td>1861060.0</td>\n      <td>NaN</td>\n      <td>0</td>\n      <td>0</td>\n      <td>710-0046</td>\n      <td>34.5833</td>\n      <td>133.7667</td>\n      <td>10.0</td>\n    </tr>\n    <tr>\n      <th>13</th>\n      <td>1.0.92.0/22</td>\n      <td>1861060</td>\n      <td>1861060.0</td>\n      <td>NaN</td>\n      <td>0</td>\n      <td>0</td>\n      <td>102-0082</td>\n      <td>35.6854</td>\n      <td>139.7531</td>\n      <td>10.0</td>\n    </tr>\n    <tr>\n      <th>14</th>\n      <td>1.0.96.0/22</td>\n      <td>1849892</td>\n      <td>1861060.0</td>\n      <td>NaN</td>\n      <td>0</td>\n      <td>0</td>\n      <td>682-0825</td>\n      <td>35.5036</td>\n      <td>134.2383</td>\n      <td>200.0</td>\n    </tr>\n  </tbody>\n</table>\n</div>", 
                        "text/plain": "        network  geoname_id  registered_country_geoname_id  \\\n0    1.0.0.0/24     2151718                      2077456.0   \n1    1.0.1.0/24     1810821                      1814991.0   \n2    1.0.2.0/23     1810821                      1814991.0   \n3    1.0.4.0/22     2077456                      2077456.0   \n4    1.0.8.0/21     1809858                      1814991.0   \n5   1.0.16.0/20     1850147                      1861060.0   \n6   1.0.32.0/19     1809858                      1814991.0   \n7   1.0.64.0/20     1854383                      1861060.0   \n8   1.0.80.0/22     1854383                      1861060.0   \n9   1.0.84.0/23     1854383                      1861060.0   \n10  1.0.86.0/24     1854383                      1861060.0   \n11  1.0.87.0/24     1858311                      1861060.0   \n12  1.0.88.0/22     1858311                      1861060.0   \n13  1.0.92.0/22     1861060                      1861060.0   \n14  1.0.96.0/22     1849892                      1861060.0   \n\n    represented_country_geoname_id  is_anonymous_proxy  is_satellite_provider  \\\n0                              NaN                   0                      0   \n1                              NaN                   0                      0   \n2                              NaN                   0                      0   \n3                              NaN                   0                      0   \n4                              NaN                   0                      0   \n5                              NaN                   0                      0   \n6                              NaN                   0                      0   \n7                              NaN                   0                      0   \n8                              NaN                   0                      0   \n9                              NaN                   0                      0   \n10                             NaN                   0                      0   \n11                             NaN                   0                      0   \n12                             NaN                   0                      0   \n13                             NaN                   0                      0   \n14                             NaN                   0                      0   \n\n   postal_code  latitude  longitude  accuracy_radius  \n0         3095  -37.7000   145.1833           1000.0  \n1          ---   26.0614   119.3061             50.0  \n2          ---   26.0614   119.3061             50.0  \n3          ---  -33.4940   143.2104           1000.0  \n4          ---   23.1167   113.2500             50.0  \n5     190-0031   35.6850   139.7514            500.0  \n6          ---   23.1167   113.2500             50.0  \n7     700-0827   34.6617   133.9350             10.0  \n8     700-0827   34.6617   133.9350             10.0  \n9     700-0827   34.6617   133.9350             10.0  \n10    700-0827   34.6617   133.9350             10.0  \n11    710-0046   34.5833   133.7667             10.0  \n12    710-0046   34.5833   133.7667             10.0  \n13    102-0082   35.6854   139.7531             10.0  \n14    682-0825   35.5036   134.2383            200.0  "
                    }, 
                    "output_type": "execute_result"
                }
            ], 
            "source": "# display raw network data\nmaxmindNetworks.head(15)"
        }, 
        {
            "execution_count": 7, 
            "cell_type": "code", 
            "metadata": {}, 
            "outputs": [
                {
                    "execution_count": 7, 
                    "metadata": {}, 
                    "data": {
                        "text/html": "<div>\n<style scoped>\n    .dataframe tbody tr th:only-of-type {\n        vertical-align: middle;\n    }\n\n    .dataframe tbody tr th {\n        vertical-align: top;\n    }\n\n    .dataframe thead th {\n        text-align: right;\n    }\n</style>\n<table border=\"1\" class=\"dataframe\">\n  <thead>\n    <tr style=\"text-align: right;\">\n      <th></th>\n      <th>geoname_id</th>\n      <th>locale_code</th>\n      <th>continent_code</th>\n      <th>continent_name</th>\n      <th>country_iso_code</th>\n      <th>country_name</th>\n      <th>subdivision_1_iso_code</th>\n      <th>subdivision_1_name</th>\n      <th>subdivision_2_iso_code</th>\n      <th>subdivision_2_name</th>\n      <th>city_name</th>\n      <th>metro_code</th>\n      <th>time_zone</th>\n    </tr>\n  </thead>\n  <tbody>\n    <tr>\n      <th>0</th>\n      <td>18918</td>\n      <td>en</td>\n      <td>EU</td>\n      <td>Europe</td>\n      <td>CY</td>\n      <td>Cyprus</td>\n      <td>04</td>\n      <td>Ammochostos</td>\n      <td>---</td>\n      <td>---</td>\n      <td>Protaras</td>\n      <td>---</td>\n      <td>Asia/Famagusta</td>\n    </tr>\n    <tr>\n      <th>1</th>\n      <td>32909</td>\n      <td>en</td>\n      <td>AS</td>\n      <td>Asia</td>\n      <td>IR</td>\n      <td>Iran</td>\n      <td>07</td>\n      <td>Ostan-e Tehran</td>\n      <td>---</td>\n      <td>---</td>\n      <td>Shahre Jadide Andisheh</td>\n      <td>---</td>\n      <td>Asia/Tehran</td>\n    </tr>\n    <tr>\n      <th>2</th>\n      <td>49518</td>\n      <td>en</td>\n      <td>AF</td>\n      <td>Africa</td>\n      <td>RW</td>\n      <td>Rwanda</td>\n      <td>---</td>\n      <td>---</td>\n      <td>---</td>\n      <td>---</td>\n      <td>---</td>\n      <td>---</td>\n      <td>Africa/Kigali</td>\n    </tr>\n    <tr>\n      <th>3</th>\n      <td>49747</td>\n      <td>en</td>\n      <td>AF</td>\n      <td>Africa</td>\n      <td>SO</td>\n      <td>Somalia</td>\n      <td>BK</td>\n      <td>Bakool</td>\n      <td>---</td>\n      <td>---</td>\n      <td>Oddur</td>\n      <td>---</td>\n      <td>Africa/Mogadishu</td>\n    </tr>\n    <tr>\n      <th>4</th>\n      <td>51537</td>\n      <td>en</td>\n      <td>AF</td>\n      <td>Africa</td>\n      <td>SO</td>\n      <td>Somalia</td>\n      <td>---</td>\n      <td>---</td>\n      <td>---</td>\n      <td>---</td>\n      <td>---</td>\n      <td>---</td>\n      <td>Africa/Mogadishu</td>\n    </tr>\n    <tr>\n      <th>5</th>\n      <td>53654</td>\n      <td>en</td>\n      <td>AF</td>\n      <td>Africa</td>\n      <td>SO</td>\n      <td>Somalia</td>\n      <td>BN</td>\n      <td>Banaadir</td>\n      <td>---</td>\n      <td>---</td>\n      <td>Mogadishu</td>\n      <td>---</td>\n      <td>Africa/Mogadishu</td>\n    </tr>\n    <tr>\n      <th>6</th>\n      <td>54225</td>\n      <td>en</td>\n      <td>AF</td>\n      <td>Africa</td>\n      <td>SO</td>\n      <td>Somalia</td>\n      <td>SH</td>\n      <td>Lower Shabeelle</td>\n      <td>---</td>\n      <td>---</td>\n      <td>Merca</td>\n      <td>---</td>\n      <td>Africa/Mogadishu</td>\n    </tr>\n    <tr>\n      <th>7</th>\n      <td>55671</td>\n      <td>en</td>\n      <td>AF</td>\n      <td>Africa</td>\n      <td>SO</td>\n      <td>Somalia</td>\n      <td>JH</td>\n      <td>Lower Juba</td>\n      <td>---</td>\n      <td>---</td>\n      <td>Kismayo</td>\n      <td>---</td>\n      <td>Africa/Mogadishu</td>\n    </tr>\n    <tr>\n      <th>8</th>\n      <td>57289</td>\n      <td>en</td>\n      <td>AF</td>\n      <td>Africa</td>\n      <td>SO</td>\n      <td>Somalia</td>\n      <td>WO</td>\n      <td>Woqooyi Galbeed</td>\n      <td>---</td>\n      <td>---</td>\n      <td>Hargeisa</td>\n      <td>---</td>\n      <td>Africa/Mogadishu</td>\n    </tr>\n    <tr>\n      <th>9</th>\n      <td>58933</td>\n      <td>en</td>\n      <td>AF</td>\n      <td>Africa</td>\n      <td>SO</td>\n      <td>Somalia</td>\n      <td>NU</td>\n      <td>Nugaal</td>\n      <td>---</td>\n      <td>---</td>\n      <td>Garoowe</td>\n      <td>---</td>\n      <td>Africa/Mogadishu</td>\n    </tr>\n    <tr>\n      <th>10</th>\n      <td>58994</td>\n      <td>en</td>\n      <td>AF</td>\n      <td>Africa</td>\n      <td>SO</td>\n      <td>Somalia</td>\n      <td>GE</td>\n      <td>Gedo</td>\n      <td>---</td>\n      <td>---</td>\n      <td>Garbahaarrey</td>\n      <td>---</td>\n      <td>Africa/Mogadishu</td>\n    </tr>\n    <tr>\n      <th>11</th>\n      <td>59611</td>\n      <td>en</td>\n      <td>AF</td>\n      <td>Africa</td>\n      <td>SO</td>\n      <td>Somalia</td>\n      <td>MU</td>\n      <td>Mudug</td>\n      <td>---</td>\n      <td>---</td>\n      <td>Gaalkacyo</td>\n      <td>---</td>\n      <td>Africa/Mogadishu</td>\n    </tr>\n    <tr>\n      <th>12</th>\n      <td>60928</td>\n      <td>en</td>\n      <td>AF</td>\n      <td>Africa</td>\n      <td>SO</td>\n      <td>Somalia</td>\n      <td>GA</td>\n      <td>Galguduud</td>\n      <td>---</td>\n      <td>---</td>\n      <td>Dusa Marreb</td>\n      <td>---</td>\n      <td>Africa/Mogadishu</td>\n    </tr>\n    <tr>\n      <th>13</th>\n      <td>63795</td>\n      <td>en</td>\n      <td>AF</td>\n      <td>Africa</td>\n      <td>SO</td>\n      <td>Somalia</td>\n      <td>TO</td>\n      <td>Togdheer</td>\n      <td>---</td>\n      <td>---</td>\n      <td>Burao</td>\n      <td>---</td>\n      <td>Africa/Mogadishu</td>\n    </tr>\n    <tr>\n      <th>14</th>\n      <td>64013</td>\n      <td>en</td>\n      <td>AF</td>\n      <td>Africa</td>\n      <td>SO</td>\n      <td>Somalia</td>\n      <td>BR</td>\n      <td>Bari</td>\n      <td>---</td>\n      <td>---</td>\n      <td>Bosaso</td>\n      <td>---</td>\n      <td>Africa/Mogadishu</td>\n    </tr>\n  </tbody>\n</table>\n</div>", 
                        "text/plain": "    geoname_id locale_code continent_code continent_name country_iso_code  \\\n0        18918          en             EU         Europe               CY   \n1        32909          en             AS           Asia               IR   \n2        49518          en             AF         Africa               RW   \n3        49747          en             AF         Africa               SO   \n4        51537          en             AF         Africa               SO   \n5        53654          en             AF         Africa               SO   \n6        54225          en             AF         Africa               SO   \n7        55671          en             AF         Africa               SO   \n8        57289          en             AF         Africa               SO   \n9        58933          en             AF         Africa               SO   \n10       58994          en             AF         Africa               SO   \n11       59611          en             AF         Africa               SO   \n12       60928          en             AF         Africa               SO   \n13       63795          en             AF         Africa               SO   \n14       64013          en             AF         Africa               SO   \n\n   country_name subdivision_1_iso_code subdivision_1_name  \\\n0        Cyprus                     04        Ammochostos   \n1          Iran                     07     Ostan-e Tehran   \n2        Rwanda                    ---                ---   \n3       Somalia                     BK             Bakool   \n4       Somalia                    ---                ---   \n5       Somalia                     BN           Banaadir   \n6       Somalia                     SH    Lower Shabeelle   \n7       Somalia                     JH         Lower Juba   \n8       Somalia                     WO    Woqooyi Galbeed   \n9       Somalia                     NU             Nugaal   \n10      Somalia                     GE               Gedo   \n11      Somalia                     MU              Mudug   \n12      Somalia                     GA          Galguduud   \n13      Somalia                     TO           Togdheer   \n14      Somalia                     BR               Bari   \n\n   subdivision_2_iso_code subdivision_2_name               city_name  \\\n0                     ---                ---                Protaras   \n1                     ---                ---  Shahre Jadide Andisheh   \n2                     ---                ---                     ---   \n3                     ---                ---                   Oddur   \n4                     ---                ---                     ---   \n5                     ---                ---               Mogadishu   \n6                     ---                ---                   Merca   \n7                     ---                ---                 Kismayo   \n8                     ---                ---                Hargeisa   \n9                     ---                ---                 Garoowe   \n10                    ---                ---            Garbahaarrey   \n11                    ---                ---               Gaalkacyo   \n12                    ---                ---             Dusa Marreb   \n13                    ---                ---                   Burao   \n14                    ---                ---                  Bosaso   \n\n   metro_code         time_zone  \n0         ---    Asia/Famagusta  \n1         ---       Asia/Tehran  \n2         ---     Africa/Kigali  \n3         ---  Africa/Mogadishu  \n4         ---  Africa/Mogadishu  \n5         ---  Africa/Mogadishu  \n6         ---  Africa/Mogadishu  \n7         ---  Africa/Mogadishu  \n8         ---  Africa/Mogadishu  \n9         ---  Africa/Mogadishu  \n10        ---  Africa/Mogadishu  \n11        ---  Africa/Mogadishu  \n12        ---  Africa/Mogadishu  \n13        ---  Africa/Mogadishu  \n14        ---  Africa/Mogadishu  "
                    }, 
                    "output_type": "execute_result"
                }
            ], 
            "source": "# display raw location data\nmaxmindLocations.head(15)"
        }, 
        {
            "execution_count": null, 
            "cell_type": "code", 
            "metadata": {}, 
            "outputs": [
                {
                    "execution_count": 8, 
                    "metadata": {}, 
                    "data": {
                        "text/html": "<div>\n<style scoped>\n    .dataframe tbody tr th:only-of-type {\n        vertical-align: middle;\n    }\n\n    .dataframe tbody tr th {\n        vertical-align: top;\n    }\n\n    .dataframe thead th {\n        text-align: right;\n    }\n</style>\n<table border=\"1\" class=\"dataframe\">\n  <thead>\n    <tr style=\"text-align: right;\">\n      <th></th>\n      <th>geoname_id</th>\n      <th>postal_code</th>\n      <th>latitude</th>\n      <th>longitude</th>\n    </tr>\n    <tr>\n      <th>network</th>\n      <th></th>\n      <th></th>\n      <th></th>\n      <th></th>\n    </tr>\n  </thead>\n  <tbody>\n    <tr>\n      <th>1.0.0.0/24</th>\n      <td>2151718</td>\n      <td>3095</td>\n      <td>-37.7000</td>\n      <td>145.1833</td>\n    </tr>\n    <tr>\n      <th>1.0.1.0/24</th>\n      <td>1810821</td>\n      <td>---</td>\n      <td>26.0614</td>\n      <td>119.3061</td>\n    </tr>\n    <tr>\n      <th>1.0.2.0/23</th>\n      <td>1810821</td>\n      <td>---</td>\n      <td>26.0614</td>\n      <td>119.3061</td>\n    </tr>\n    <tr>\n      <th>1.0.4.0/22</th>\n      <td>2077456</td>\n      <td>---</td>\n      <td>-33.4940</td>\n      <td>143.2104</td>\n    </tr>\n    <tr>\n      <th>1.0.8.0/21</th>\n      <td>1809858</td>\n      <td>---</td>\n      <td>23.1167</td>\n      <td>113.2500</td>\n    </tr>\n    <tr>\n      <th>1.0.16.0/20</th>\n      <td>1850147</td>\n      <td>190-0031</td>\n      <td>35.6850</td>\n      <td>139.7514</td>\n    </tr>\n    <tr>\n      <th>1.0.32.0/19</th>\n      <td>1809858</td>\n      <td>---</td>\n      <td>23.1167</td>\n      <td>113.2500</td>\n    </tr>\n    <tr>\n      <th>1.0.64.0/20</th>\n      <td>1854383</td>\n      <td>700-0827</td>\n      <td>34.6617</td>\n      <td>133.9350</td>\n    </tr>\n    <tr>\n      <th>1.0.80.0/22</th>\n      <td>1854383</td>\n      <td>700-0827</td>\n      <td>34.6617</td>\n      <td>133.9350</td>\n    </tr>\n    <tr>\n      <th>1.0.84.0/23</th>\n      <td>1854383</td>\n      <td>700-0827</td>\n      <td>34.6617</td>\n      <td>133.9350</td>\n    </tr>\n    <tr>\n      <th>1.0.86.0/24</th>\n      <td>1854383</td>\n      <td>700-0827</td>\n      <td>34.6617</td>\n      <td>133.9350</td>\n    </tr>\n    <tr>\n      <th>1.0.87.0/24</th>\n      <td>1858311</td>\n      <td>710-0046</td>\n      <td>34.5833</td>\n      <td>133.7667</td>\n    </tr>\n    <tr>\n      <th>1.0.88.0/22</th>\n      <td>1858311</td>\n      <td>710-0046</td>\n      <td>34.5833</td>\n      <td>133.7667</td>\n    </tr>\n    <tr>\n      <th>1.0.92.0/22</th>\n      <td>1861060</td>\n      <td>102-0082</td>\n      <td>35.6854</td>\n      <td>139.7531</td>\n    </tr>\n    <tr>\n      <th>1.0.96.0/22</th>\n      <td>1849892</td>\n      <td>682-0825</td>\n      <td>35.5036</td>\n      <td>134.2383</td>\n    </tr>\n  </tbody>\n</table>\n</div>", 
                        "text/plain": "             geoname_id postal_code  latitude  longitude\nnetwork                                                 \n1.0.0.0/24      2151718        3095  -37.7000   145.1833\n1.0.1.0/24      1810821         ---   26.0614   119.3061\n1.0.2.0/23      1810821         ---   26.0614   119.3061\n1.0.4.0/22      2077456         ---  -33.4940   143.2104\n1.0.8.0/21      1809858         ---   23.1167   113.2500\n1.0.16.0/20     1850147    190-0031   35.6850   139.7514\n1.0.32.0/19     1809858         ---   23.1167   113.2500\n1.0.64.0/20     1854383    700-0827   34.6617   133.9350\n1.0.80.0/22     1854383    700-0827   34.6617   133.9350\n1.0.84.0/23     1854383    700-0827   34.6617   133.9350\n1.0.86.0/24     1854383    700-0827   34.6617   133.9350\n1.0.87.0/24     1858311    710-0046   34.5833   133.7667\n1.0.88.0/22     1858311    710-0046   34.5833   133.7667\n1.0.92.0/22     1861060    102-0082   35.6854   139.7531\n1.0.96.0/22     1849892    682-0825   35.5036   134.2383"
                    }, 
                    "output_type": "execute_result"
                }
            ], 
            "source": "# display relevant network data\nmaxmindNetworks[['network','geoname_id','postal_code','latitude','longitude']].set_index('network').head(15)"
        }, 
        {
            "execution_count": null, 
            "cell_type": "code", 
            "metadata": {}, 
            "outputs": [], 
            "source": "# add geohash of latitude/longitude and display relevant network data again\nmaxmindNetworks['geohash6'] = maxmindNetworks.apply(lambda row: geohash2.encode(row['latitude'],row['longitude'],precision=6),axis=1)\nmaxmindNetworks[['network','geoname_id','postal_code','latitude','longitude','geohash6']].set_index('network').head(15)"
        }, 
        {
            "execution_count": null, 
            "cell_type": "code", 
            "metadata": {}, 
            "outputs": [], 
            "source": "# display relevant location data\nmaxmindLocations[['geoname_id','country_iso_code','country_name','subdivision_1_iso_code','subdivision_1_name','subdivision_2_iso_code','subdivision_2_name','city_name']].set_index('geoname_id').head(15)"
        }, 
        {
            "execution_count": null, 
            "cell_type": "code", 
            "metadata": {}, 
            "outputs": [], 
            "source": "# merge relevant network and location data and display results\nmaxmindNetworkLocations = maxmindNetworks[['network','geoname_id','latitude','longitude','geohash6']].join(maxmindLocations[['geoname_id','country_iso_code','country_name','subdivision_1_name','subdivision_2_name','city_name']].set_index(['geoname_id']),on='geoname_id')\nmaxmindNetworkLocations.set_index('network').head(15)"
        }, 
        {
            "execution_count": null, 
            "cell_type": "code", 
            "metadata": {}, 
            "outputs": [], 
            "source": "# group networks by location\nmaxmindNetworksByLocation = maxmindNetworkLocations.groupby('geoname_id')"
        }, 
        {
            "execution_count": null, 
            "cell_type": "code", 
            "metadata": {}, 
            "outputs": [], 
            "source": "# summarize each group of network locations\n\ndef groupSummary(geoname_id):\n    group = maxmindNetworksByLocation.get_group(geoname_id)\n    networkCount = len(group)\n    coordinateCount = len(group.groupby('geohash6').count())\n    averageLatitude = group['latitude'].mean()\n    averageLongitude = group['longitude'].mean()\n    geohash6 = geohash2.encode(averageLatitude,averageLongitude,precision=6)\n    return [geoname_id,networkCount,coordinateCount,averageLatitude,averageLongitude,geohash6]\n\ncolumns = ['geoname_id','networkCount','coordinateCount','averageLatitude','averageLongitude','geohash6']\nmaxmindLocationSummary = pd.DataFrame( [ groupSummary(g) for g in list(maxmindNetworksByLocation.groups.keys()) ], columns=columns )"
        }, 
        {
            "execution_count": null, 
            "cell_type": "code", 
            "metadata": {}, 
            "outputs": [], 
            "source": "# display network location summary\nmaxmindLocationSummary.set_index('geoname_id').head(15)"
        }, 
        {
            "execution_count": null, 
            "cell_type": "code", 
            "metadata": {}, 
            "outputs": [], 
            "source": "# add additional location data to summary\nmaxmindLocationSummary = maxmindLocationSummary.join(maxmindLocations[['geoname_id','country_name','subdivision_1_name','city_name']].set_index('geoname_id'), on='geoname_id')"
        }, 
        {
            "execution_count": null, 
            "cell_type": "code", 
            "metadata": {}, 
            "outputs": [], 
            "source": "# display summary with additional location datafor locations with more than two unique latitude/longitude coordinates\nmaxmindLocationSummary.set_index('geoname_id').head(15)"
        }, 
        {
            "execution_count": null, 
            "cell_type": "code", 
            "metadata": {}, 
            "outputs": [], 
            "source": "# display summary for locations with more than two unique latitude/longitude coordinates\nmaxmindLocationSummary.sort_values('coordinateCount',ascending=False).set_index('geoname_id').head(15)"
        }, 
        {
            "execution_count": null, 
            "cell_type": "code", 
            "metadata": {}, 
            "outputs": [], 
            "source": "# this function plots the networks in a location on a map\n\ndef drawmap(geoname_id,zoomLevel):\n\n    countryName = maxmindLocations.loc[maxmindLocations['geoname_id']==geoname_id,'country_name'].item()\n    subdivisionName = maxmindLocations.loc[maxmindLocations['geoname_id']==geoname_id,'subdivision_1_name'].item()\n    cityName = maxmindLocations.loc[maxmindLocations['geoname_id']==geoname_id,'city_name'].item()\n\n    group = maxmindNetworksByLocation.get_group(geoname_id)\n    networkCount = len(group)\n    averageLatitude, averageLongitude = group[['latitude','longitude']].mean()\n\n    map = folium.Map(location=[averageLatitude, averageLongitude], zoom_start=zoomLevel)\n\n    points = group.groupby(['latitude','longitude'])\n    coordinateCount = len(list(points.groups.keys()))\n\n    for key, group in points:\n        latitude,longitude = key\n        folium.features.Circle(location=[latitude, longitude], radius=200, color='blue').add_to(map)\n\n    print('location ' + str(geoname_id) + ': ' + str(networkCount) + ' networks at ' + str(coordinateCount) + ' coordinates in ' + cityName + ', ' + subdivisionName + ', ' + countryName)\n    return map"
        }, 
        {
            "execution_count": null, 
            "cell_type": "code", 
            "metadata": {}, 
            "outputs": [], 
            "source": "drawmap(3114472,11) # Pamplona"
        }, 
        {
            "execution_count": null, 
            "cell_type": "code", 
            "metadata": {}, 
            "outputs": [], 
            "source": "drawmap(4335045,12) # New Orleans"
        }, 
        {
            "execution_count": null, 
            "cell_type": "code", 
            "metadata": {}, 
            "outputs": [], 
            "source": "drawmap(2867714,11) # Munich"
        }, 
        {
            "execution_count": null, 
            "cell_type": "code", 
            "metadata": {}, 
            "outputs": [], 
            "source": "drawmap(2950159,10) # Berlin"
        }, 
        {
            "execution_count": null, 
            "cell_type": "code", 
            "metadata": {}, 
            "outputs": [], 
            "source": ""
        }, 
        {
            "execution_count": null, 
            "cell_type": "code", 
            "metadata": {}, 
            "outputs": [], 
            "source": ""
        }, 
        {
            "execution_count": null, 
            "cell_type": "code", 
            "metadata": {}, 
            "outputs": [], 
            "source": "def findGeohashBBox(minLatitude, minLongitude, maxLatitude, maxLongitude):\n\n    for p in range(12,0,-1):\n        geohashCode = geohash2.encode( (maxLatitude+minLatitude)/2, (maxLongitude+minLongitude)/2, precision=p)\n        geohashBBox = geohash.bbox(geohashCode)    \n        if minLatitude < geohashBBox['s']: continue\n        if maxLatitude > geohashBBox['n']: continue\n        if minLongitude < geohashBBox['w']: continue\n        if maxLongitude > geohashBBox['e']: continue\n        return (geohashCode, geohashBBox)\n    print('no geohash found that encloses latitude ' + str(minLatitude) + ' to ' + str(maxLatitude) + ', longitude ' + str(minLongitude) + ' to ' + str(maxLongitude))\n    return (None, None)\n    \n    \n                  \ndef drawmapWithGeohashBBox(geoname_id,zoomLevel):\n\n    countryName = maxmindLocations.loc[maxmindLocations['geoname_id']==geoname_id,'country_name'].item()\n    subdivisionName = maxmindLocations.loc[maxmindLocations['geoname_id']==geoname_id,'subdivision_1_name'].item()\n    cityName = maxmindLocations.loc[maxmindLocations['geoname_id']==geoname_id,'city_name'].item()\n\n    group = maxmindNetworksByLocation.get_group(geoname_id)\n    networkCount = len(group)\n    minLatitude, minLongitude = group[['latitude','longitude']].min()\n    avgLatitude, avgLongitude = group[['latitude','longitude']].mean()\n    maxLatitude, maxLongitude = group[['latitude','longitude']].max()\n\n    map = folium.Map(location=[avgLatitude, avgLongitude], zoom_start=zoomLevel)\n\n    points = group.groupby(['latitude','longitude'])\n    coordinateCount = len(list(points.groups.keys()))\n\n    for key, group in points:\n        latitude,longitude = key\n        folium.features.Circle(location=[latitude, longitude], radius=200, color='blue').add_to(map)\n\n    (geohashCode, geohashBBox) = findGeohashBBox(minLatitude, minLongitude, maxLatitude, maxLongitude)\n    if geohashCode is None: return None\n    \n    folium.features.RectangleMarker([(geohashBBox['s'], geohashBBox['w']),(geohashBBox['n'], geohashBBox['e'])],weight=0, fill_color='blue', fill_opacity=0.2,).add_to(map)\n        \n    print('geohash \"' + geohashCode + '\" for location ' + str(geoname_id) + ': ' + str(networkCount) + ' networks at ' + str(coordinateCount) + ' coordinates in ' + cityName + ', ' + subdivisionName + ', ' + countryName)\n    return map"
        }, 
        {
            "execution_count": null, 
            "cell_type": "code", 
            "metadata": {}, 
            "outputs": [], 
            "source": "drawmapWithGeohashBBox(3114472,11) # Pamplona"
        }, 
        {
            "execution_count": null, 
            "cell_type": "code", 
            "metadata": {}, 
            "outputs": [], 
            "source": "drawmapWithGeohashBBox(4335045,12) # New Orleans"
        }, 
        {
            "execution_count": null, 
            "cell_type": "code", 
            "metadata": {}, 
            "outputs": [], 
            "source": "drawmapWithGeohashBBox(2867714,8) # Munich"
        }, 
        {
            "execution_count": null, 
            "cell_type": "code", 
            "metadata": {}, 
            "outputs": [], 
            "source": "drawmapWithGeohashBBox(2950159,8) # Berlin"
        }, 
        {
            "execution_count": null, 
            "cell_type": "code", 
            "metadata": {}, 
            "outputs": [], 
            "source": ""
        }, 
        {
            "execution_count": null, 
            "cell_type": "code", 
            "metadata": {}, 
            "outputs": [], 
            "source": ""
        }, 
        {
            "execution_count": null, 
            "cell_type": "code", 
            "metadata": {}, 
            "outputs": [], 
            "source": ""
        }, 
        {
            "execution_count": null, 
            "cell_type": "code", 
            "metadata": {}, 
            "outputs": [], 
            "source": "def drawmapWithGeohashCentroid(geoname_id,zoomLevel):\n\n    countryName = maxmindLocations.loc[maxmindLocations['geoname_id']==geoname_id,'country_name'].item()\n    subdivisionName = maxmindLocations.loc[maxmindLocations['geoname_id']==geoname_id,'subdivision_1_name'].item()\n    cityName = maxmindLocations.loc[maxmindLocations['geoname_id']==geoname_id,'city_name'].item()\n\n    group = maxmindNetworksByLocation.get_group(geoname_id)\n    networkCount = len(group)\n\n    avgLatitude, avgLongitude = group[['latitude','longitude']].mean()\n    map = folium.Map(location=[avgLatitude, avgLongitude], zoom_start=zoomLevel)\n\n    points = group.groupby(['latitude','longitude'])\n    coordinateCount = len(list(points.groups.keys()))\n\n    for key, group in points:\n        latitude,longitude = key\n        folium.features.Circle(location=[latitude, longitude], radius=200, color='blue').add_to(map)\n\n    geohashCode = geohash2.encode(avgLatitude, avgLongitude, precision=5)\n    geohashBBox = geohash.bbox(geohashCode)    \n    folium.features.RectangleMarker([(geohashBBox['s'], geohashBBox['w']),(geohashBBox['n'], geohashBBox['e'])],weight=0, fill_color='blue', fill_opacity=.33).add_to(map)\n        \n    print('geohash \"' + geohashCode + '\" for location ' + str(geoname_id) + ': ' + str(networkCount) + ' networks at ' + str(coordinateCount) + ' coordinates in ' + cityName + ', ' + subdivisionName + ', ' + countryName)\n    return map"
        }, 
        {
            "execution_count": null, 
            "cell_type": "code", 
            "metadata": {}, 
            "outputs": [], 
            "source": "drawmapWithGeohashCentroid(3114472,11) # Pamplona"
        }, 
        {
            "execution_count": null, 
            "cell_type": "code", 
            "metadata": {}, 
            "outputs": [], 
            "source": "drawmapWithGeohashCentroid(4335045,12) # New Orleans"
        }, 
        {
            "execution_count": null, 
            "cell_type": "code", 
            "metadata": {}, 
            "outputs": [], 
            "source": "drawmapWithGeohashCentroid(2867714,11) # Munich"
        }, 
        {
            "execution_count": null, 
            "cell_type": "code", 
            "metadata": {}, 
            "outputs": [], 
            "source": "drawmapWithGeohashCentroid(2950159,10) # Berlin"
        }, 
        {
            "execution_count": null, 
            "cell_type": "code", 
            "metadata": {}, 
            "outputs": [], 
            "source": ""
        }
    ], 
    "metadata": {
        "kernelspec": {
            "display_name": "Python 3.5 with Spark 1.6 (Unsupported)", 
            "name": "python3", 
            "language": "python"
        }, 
        "language_info": {
            "mimetype": "text/x-python", 
            "nbconvert_exporter": "python", 
            "version": "3.5.4", 
            "name": "python", 
            "file_extension": ".py", 
            "pygments_lexer": "ipython3", 
            "codemirror_mode": {
                "version": 3, 
                "name": "ipython"
            }
        }
    }, 
    "nbformat": 4
}